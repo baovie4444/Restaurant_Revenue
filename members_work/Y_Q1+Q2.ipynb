{
 "cells": [
  {
   "cell_type": "code",
   "execution_count": 4,
   "metadata": {},
   "outputs": [],
   "source": [
    "import numpy as np\n",
    "import pandas as pd\n",
    "import seaborn as sns\n",
    "import matplotlib.pyplot as plt\n",
    "from statsmodels.stats.proportion import proportions_ztest\n",
    "from sklearn.model_selection import train_test_split\n",
    "from scipy.stats import f_oneway\n",
    "pd.set_option(\"display.float_format\", lambda x: \"%.2f\" %x)"
   ]
  },
  {
   "cell_type": "code",
   "execution_count": 5,
   "metadata": {},
   "outputs": [
    {
     "name": "stdout",
     "output_type": "stream",
     "text": [
      "           Name  Location   Cuisine  Rating  Seating Capacity  \\\n",
      "0  Restaurant 0     Rural  Japanese    4.00                38   \n",
      "1  Restaurant 1  Downtown   Mexican    3.20                76   \n",
      "2  Restaurant 2     Rural   Italian    4.70                48   \n",
      "3  Restaurant 3     Rural   Italian    4.40                34   \n",
      "4  Restaurant 4  Downtown  Japanese    4.90                88   \n",
      "5  Restaurant 5  Downtown    Indian    4.40                79   \n",
      "6  Restaurant 6     Rural   Mexican    4.90                49   \n",
      "7  Restaurant 7  Suburban  Japanese    4.10                61   \n",
      "8  Restaurant 8     Rural  Japanese    4.20                37   \n",
      "9  Restaurant 9     Rural    French    5.00                32   \n",
      "\n",
      "   Average Meal Price  Marketing Budget  Social Media Followers  \\\n",
      "0               73.98              2224                   23406   \n",
      "1               28.11              4416                   42741   \n",
      "2               48.29              2796                   37285   \n",
      "3               51.55              1167                   15214   \n",
      "4               75.98              3639                   40171   \n",
      "5               35.69              6787                   75378   \n",
      "6               35.30              2594                   32587   \n",
      "7               73.65              3213                   33429   \n",
      "8               73.75              3437                   37102   \n",
      "9               59.80              2569                   28419   \n",
      "\n",
      "   Chef Experience Years  Number of Reviews  Avg Review Length  \\\n",
      "0                     13                185             161.92   \n",
      "1                      8                533             148.76   \n",
      "2                     18                853              56.85   \n",
      "3                     13                 82             205.43   \n",
      "4                      9                 78             241.68   \n",
      "5                      5                400             247.54   \n",
      "6                     11                106             206.16   \n",
      "7                     14                377             135.32   \n",
      "8                     18                494              55.65   \n",
      "9                     18                907             273.94   \n",
      "\n",
      "   Ambience Score  Service Quality Score Parking Availability  \\\n",
      "0            1.30                   7.00                  Yes   \n",
      "1            2.60                   3.40                  Yes   \n",
      "2            5.30                   6.70                   No   \n",
      "3            4.60                   2.80                  Yes   \n",
      "4            8.60                   2.10                   No   \n",
      "5            2.00                   8.50                  Yes   \n",
      "6            1.50                   5.30                   No   \n",
      "7            1.80                   4.60                   No   \n",
      "8            7.10                   9.40                  Yes   \n",
      "9            6.40                   7.40                   No   \n",
      "\n",
      "   Weekend Reservations  Weekday Reservations    Revenue  \n",
      "0                    13                     4  638945.52  \n",
      "1                    48                     6  490207.83  \n",
      "2                    27                    14  541368.62  \n",
      "3                     9                    17  404556.80  \n",
      "4                    37                    26 1491046.35  \n",
      "5                    27                    22  644220.90  \n",
      "6                    12                    28  400348.65  \n",
      "7                    56                    23 1014153.65  \n",
      "8                    27                    24  635606.10  \n",
      "9                    12                    19  452920.65  \n"
     ]
    }
   ],
   "source": [
    "df = pd.read_csv(\"../data/restaurant_data.csv\")\n",
    "print(df.head(10))"
   ]
  },
  {
   "cell_type": "code",
   "execution_count": 6,
   "metadata": {},
   "outputs": [
    {
     "data": {
      "text/html": [
       "<div>\n",
       "<style scoped>\n",
       "    .dataframe tbody tr th:only-of-type {\n",
       "        vertical-align: middle;\n",
       "    }\n",
       "\n",
       "    .dataframe tbody tr th {\n",
       "        vertical-align: top;\n",
       "    }\n",
       "\n",
       "    .dataframe thead th {\n",
       "        text-align: right;\n",
       "    }\n",
       "</style>\n",
       "<table border=\"1\" class=\"dataframe\">\n",
       "  <thead>\n",
       "    <tr style=\"text-align: right;\">\n",
       "      <th></th>\n",
       "      <th>count</th>\n",
       "      <th>mean</th>\n",
       "      <th>std</th>\n",
       "      <th>min</th>\n",
       "      <th>25%</th>\n",
       "      <th>50%</th>\n",
       "      <th>75%</th>\n",
       "      <th>max</th>\n",
       "    </tr>\n",
       "  </thead>\n",
       "  <tbody>\n",
       "    <tr>\n",
       "      <th>Rating</th>\n",
       "      <td>8368.00</td>\n",
       "      <td>4.01</td>\n",
       "      <td>0.58</td>\n",
       "      <td>3.00</td>\n",
       "      <td>3.50</td>\n",
       "      <td>4.00</td>\n",
       "      <td>4.50</td>\n",
       "      <td>5.00</td>\n",
       "    </tr>\n",
       "    <tr>\n",
       "      <th>Seating Capacity</th>\n",
       "      <td>8368.00</td>\n",
       "      <td>60.21</td>\n",
       "      <td>17.40</td>\n",
       "      <td>30.00</td>\n",
       "      <td>45.00</td>\n",
       "      <td>60.00</td>\n",
       "      <td>75.00</td>\n",
       "      <td>90.00</td>\n",
       "    </tr>\n",
       "    <tr>\n",
       "      <th>Average Meal Price</th>\n",
       "      <td>8368.00</td>\n",
       "      <td>47.90</td>\n",
       "      <td>14.34</td>\n",
       "      <td>25.00</td>\n",
       "      <td>35.49</td>\n",
       "      <td>45.53</td>\n",
       "      <td>60.30</td>\n",
       "      <td>76.00</td>\n",
       "    </tr>\n",
       "    <tr>\n",
       "      <th>Marketing Budget</th>\n",
       "      <td>8368.00</td>\n",
       "      <td>3218.25</td>\n",
       "      <td>1824.90</td>\n",
       "      <td>604.00</td>\n",
       "      <td>1889.00</td>\n",
       "      <td>2846.50</td>\n",
       "      <td>4008.50</td>\n",
       "      <td>9978.00</td>\n",
       "    </tr>\n",
       "    <tr>\n",
       "      <th>Social Media Followers</th>\n",
       "      <td>8368.00</td>\n",
       "      <td>36190.62</td>\n",
       "      <td>18630.15</td>\n",
       "      <td>5277.00</td>\n",
       "      <td>22592.50</td>\n",
       "      <td>32518.50</td>\n",
       "      <td>44566.25</td>\n",
       "      <td>103777.00</td>\n",
       "    </tr>\n",
       "    <tr>\n",
       "      <th>Chef Experience Years</th>\n",
       "      <td>8368.00</td>\n",
       "      <td>10.05</td>\n",
       "      <td>5.52</td>\n",
       "      <td>1.00</td>\n",
       "      <td>5.00</td>\n",
       "      <td>10.00</td>\n",
       "      <td>15.00</td>\n",
       "      <td>19.00</td>\n",
       "    </tr>\n",
       "    <tr>\n",
       "      <th>Number of Reviews</th>\n",
       "      <td>8368.00</td>\n",
       "      <td>523.01</td>\n",
       "      <td>277.22</td>\n",
       "      <td>50.00</td>\n",
       "      <td>277.00</td>\n",
       "      <td>528.00</td>\n",
       "      <td>764.25</td>\n",
       "      <td>999.00</td>\n",
       "    </tr>\n",
       "    <tr>\n",
       "      <th>Avg Review Length</th>\n",
       "      <td>8368.00</td>\n",
       "      <td>174.77</td>\n",
       "      <td>72.00</td>\n",
       "      <td>50.01</td>\n",
       "      <td>113.31</td>\n",
       "      <td>173.91</td>\n",
       "      <td>237.41</td>\n",
       "      <td>299.98</td>\n",
       "    </tr>\n",
       "    <tr>\n",
       "      <th>Ambience Score</th>\n",
       "      <td>8368.00</td>\n",
       "      <td>5.52</td>\n",
       "      <td>2.58</td>\n",
       "      <td>1.00</td>\n",
       "      <td>3.30</td>\n",
       "      <td>5.50</td>\n",
       "      <td>7.80</td>\n",
       "      <td>10.00</td>\n",
       "    </tr>\n",
       "    <tr>\n",
       "      <th>Service Quality Score</th>\n",
       "      <td>8368.00</td>\n",
       "      <td>5.51</td>\n",
       "      <td>2.59</td>\n",
       "      <td>1.00</td>\n",
       "      <td>3.20</td>\n",
       "      <td>5.60</td>\n",
       "      <td>7.80</td>\n",
       "      <td>10.00</td>\n",
       "    </tr>\n",
       "    <tr>\n",
       "      <th>Weekend Reservations</th>\n",
       "      <td>8368.00</td>\n",
       "      <td>29.49</td>\n",
       "      <td>20.03</td>\n",
       "      <td>0.00</td>\n",
       "      <td>13.00</td>\n",
       "      <td>27.00</td>\n",
       "      <td>43.00</td>\n",
       "      <td>88.00</td>\n",
       "    </tr>\n",
       "    <tr>\n",
       "      <th>Weekday Reservations</th>\n",
       "      <td>8368.00</td>\n",
       "      <td>29.24</td>\n",
       "      <td>20.00</td>\n",
       "      <td>0.00</td>\n",
       "      <td>13.00</td>\n",
       "      <td>26.00</td>\n",
       "      <td>43.00</td>\n",
       "      <td>88.00</td>\n",
       "    </tr>\n",
       "    <tr>\n",
       "      <th>Revenue</th>\n",
       "      <td>8368.00</td>\n",
       "      <td>656070.56</td>\n",
       "      <td>267413.74</td>\n",
       "      <td>184708.52</td>\n",
       "      <td>454651.40</td>\n",
       "      <td>604242.08</td>\n",
       "      <td>813094.23</td>\n",
       "      <td>1531867.55</td>\n",
       "    </tr>\n",
       "  </tbody>\n",
       "</table>\n",
       "</div>"
      ],
      "text/plain": [
       "                         count      mean       std       min       25%  \\\n",
       "Rating                 8368.00      4.01      0.58      3.00      3.50   \n",
       "Seating Capacity       8368.00     60.21     17.40     30.00     45.00   \n",
       "Average Meal Price     8368.00     47.90     14.34     25.00     35.49   \n",
       "Marketing Budget       8368.00   3218.25   1824.90    604.00   1889.00   \n",
       "Social Media Followers 8368.00  36190.62  18630.15   5277.00  22592.50   \n",
       "Chef Experience Years  8368.00     10.05      5.52      1.00      5.00   \n",
       "Number of Reviews      8368.00    523.01    277.22     50.00    277.00   \n",
       "Avg Review Length      8368.00    174.77     72.00     50.01    113.31   \n",
       "Ambience Score         8368.00      5.52      2.58      1.00      3.30   \n",
       "Service Quality Score  8368.00      5.51      2.59      1.00      3.20   \n",
       "Weekend Reservations   8368.00     29.49     20.03      0.00     13.00   \n",
       "Weekday Reservations   8368.00     29.24     20.00      0.00     13.00   \n",
       "Revenue                8368.00 656070.56 267413.74 184708.52 454651.40   \n",
       "\n",
       "                             50%       75%        max  \n",
       "Rating                      4.00      4.50       5.00  \n",
       "Seating Capacity           60.00     75.00      90.00  \n",
       "Average Meal Price         45.53     60.30      76.00  \n",
       "Marketing Budget         2846.50   4008.50    9978.00  \n",
       "Social Media Followers  32518.50  44566.25  103777.00  \n",
       "Chef Experience Years      10.00     15.00      19.00  \n",
       "Number of Reviews         528.00    764.25     999.00  \n",
       "Avg Review Length         173.91    237.41     299.98  \n",
       "Ambience Score              5.50      7.80      10.00  \n",
       "Service Quality Score       5.60      7.80      10.00  \n",
       "Weekend Reservations       27.00     43.00      88.00  \n",
       "Weekday Reservations       26.00     43.00      88.00  \n",
       "Revenue                604242.08 813094.23 1531867.55  "
      ]
     },
     "execution_count": 6,
     "metadata": {},
     "output_type": "execute_result"
    }
   ],
   "source": [
    "df.describe().T"
   ]
  },
  {
   "cell_type": "code",
   "execution_count": 7,
   "metadata": {},
   "outputs": [
    {
     "data": {
      "text/plain": [
       "<matplotlib.lines.Line2D at 0x1b2f09312d0>"
      ]
     },
     "execution_count": 7,
     "metadata": {},
     "output_type": "execute_result"
    },
    {
     "data": {
      "image/png": "[encoded data removed]",
      "text/plain": [
       "<Figure size 1080x360 with 1 Axes>"
      ]
     },
     "metadata": {
      "needs_background": "light"
     },
     "output_type": "display_data"
    }
   ],
   "source": [
    "fig, hist = plt.subplots(1, 1, figsize=(15, 5))\n",
    "sns.histplot(data=df, x='Revenue', ax=hist, kde=True)\n",
    "hist.axvline(df['Revenue'].mean(), color='red', linestyle='--')\n",
    "hist.axvline(df['Revenue'].median(), color='green', linestyle='dashdot')"
   ]
  },
  {
   "cell_type": "code",
   "execution_count": 8,
   "metadata": {},
   "outputs": [
    {
     "name": "stdout",
     "output_type": "stream",
     "text": [
      "<class 'pandas.core.frame.DataFrame'>\n",
      "RangeIndex: 100 entries, 0 to 99\n",
      "Data columns (total 1 columns):\n",
      " #   Column   Non-Null Count  Dtype  \n",
      "---  ------   --------------  -----  \n",
      " 0   Revenue  100 non-null    float64\n",
      "dtypes: float64(1)\n",
      "memory usage: 932.0 bytes\n",
      "None\n",
      "Z-score: -0.20107470418943027\n"
     ]
    }
   ],
   "source": [
    "np.random.seed(42)\n",
    "df_revenue = df[['Revenue']]\n",
    "data_sample = df_revenue.sample(100, ignore_index=True)\n",
    "X_population = float(df_revenue.mean())\n",
    "sigma_population = df_revenue.std()\n",
    "X_sample = data_sample.mean()\n",
    "print(data_sample.info())\n",
    "Z_score = float((X_sample - X_population) / (sigma_population / 50**(1/2)))\n",
    "print(f\"Z-score: {Z_score}\")"
   ]
  },
  {
   "cell_type": "code",
   "execution_count": 9,
   "metadata": {},
   "outputs": [
    {
     "data": {
      "text/plain": [
       "<Axes: ylabel='Count'>"
      ]
     },
     "execution_count": 9,
     "metadata": {},
     "output_type": "execute_result"
    },
    {
     "data": {
      "image/png": "[encoded data removed]",
      "text/plain": [
       "<Figure size 432x288 with 1 Axes>"
      ]
     },
     "metadata": {
      "needs_background": "light"
     },
     "output_type": "display_data"
    }
   ],
   "source": [
    "alpha = 0.05\n",
    "Standardized_data_sample = (data_sample - X_population) / sigma_population\n",
    "sns.histplot(Standardized_data_sample)"
   ]
  },
  {
   "cell_type": "markdown",
   "metadata": {},
   "source": [
    "## Câu 1: Test a hypothesis and construct a confidence interval for the mean of a population."
   ]
  },
  {
   "cell_type": "code",
   "execution_count": 10,
   "metadata": {},
   "outputs": [
    {
     "name": "stdout",
     "output_type": "stream",
     "text": [
      "-1.9599639845400545 1.959963984540054\n"
     ]
    }
   ],
   "source": [
    "from scipy.stats import norm\n",
    "alpha = 0.05\n",
    "critical_value_1 = norm.ppf(alpha / 2)\n",
    "critical_value_2 = norm.ppf(1 - alpha / 2)\n",
    "print(critical_value_1, critical_value_2)"
   ]
  },
  {
   "cell_type": "code",
   "execution_count": 11,
   "metadata": {},
   "outputs": [
    {
     "data": {
      "text/plain": [
       "<matplotlib.lines.Line2D at 0x1b2f26e7350>"
      ]
     },
     "execution_count": 11,
     "metadata": {},
     "output_type": "execute_result"
    },
    {
     "data": {
      "image/png": "[encoded data removed]",
      "text/plain": [
       "<Figure size 720x360 with 1 Axes>"
      ]
     },
     "metadata": {
      "needs_background": "light"
     },
     "output_type": "display_data"
    }
   ],
   "source": [
    "fig, hist = plt.subplots(1, 1, figsize=(10, 5))\n",
    "sns.histplot(data=Standardized_data_sample, x='Revenue', ax=hist, kde=True)\n",
    "hist.axvline(critical_value_1, color='red', linestyle='--')\n",
    "hist.axvline(critical_value_2, color='red', linestyle='--')\n",
    "hist.axvline(Z_score, color='green', linestyle='dashdot')"
   ]
  },
  {
   "cell_type": "markdown",
   "metadata": {},
   "source": [
    "## Câu 2: Test a hypothesis and construct a confidence interval for the proportion of a population."
   ]
  },
  {
   "cell_type": "code",
   "execution_count": 12,
   "metadata": {},
   "outputs": [
    {
     "name": "stdout",
     "output_type": "stream",
     "text": [
      "Reject null hypothesis\n",
      "Tỷ lệ mẫu (p̂): 0.51\n",
      "Test statistic: 9.201840552184064\n",
      "P-value: 3.51870180755294e-20\n",
      "Khoảng tin cậy 95% cho tỷ lệ: (0.4120214023731988, 0.6079785976268013)\n"
     ]
    }
   ],
   "source": [
    "total_count = 100\n",
    "X_population = df['Revenue'].mean()\n",
    "data_sample = df[['Revenue']].sample(100, ignore_index=True)\n",
    "success_count = data_sample[data_sample.Revenue > X_population].shape[0]\n",
    "\n",
    "null_hypothesis = 0.05\n",
    "alpha = 0.05\n",
    "\n",
    "stat, p_value = proportions_ztest(success_count, total_count, null_hypothesis)\n",
    "\n",
    "p_hat = success_count / total_count\n",
    "conf_int = norm.interval(0.95, loc=p_hat, scale=np.sqrt(p_hat * (1 - p_hat) / total_count))\n",
    "\n",
    "if p_value < alpha:\n",
    "    print(\"Reject null hypothesis\")\n",
    "else:\n",
    "    print(\"Fail to reject null hypothesis\")\n",
    "\n",
    "print(f\"Tỷ lệ mẫu (p̂): {p_hat:.2f}\")\n",
    "print(f\"Test statistic: {stat}\")\n",
    "print(f\"P-value: {p_value}\")\n",
    "print(f\"Khoảng tin cậy 95% cho tỷ lệ: {conf_int}\")\n"
   ]
  }
 ],
 "metadata": {
  "kernelspec": {
   "display_name": "Python 3",
   "language": "python",
   "name": "python3"
  },
  "language_info": {
   "codemirror_mode": {
    "name": "ipython",
    "version": 3
   },
   "file_extension": ".py",
   "mimetype": "text/x-python",
   "name": "python",
   "nbconvert_exporter": "python",
   "pygments_lexer": "ipython3",
   "version": "3.11.7"
  }
 },
 "nbformat": 4,
 "nbformat_minor": 2
}
